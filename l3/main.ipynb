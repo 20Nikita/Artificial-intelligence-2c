{
 "cells": [
  {
   "attachments": {},
   "cell_type": "markdown",
   "metadata": {},
   "source": [
    "# Deepfake\n",
    "## 1) Анимировать свою фотограффию\n",
    "## 2) Сделать upscaling той же фотки\n",
    "## 3) Сивсворпсепробуем / тестируем модель в SimSwap (подставить своё лицо в видеоролик)\n",
    "## 4) Отреставрировать старое семейное или рандомное фото\n",
    "## 5) Представить концепт проекта использующий ранее показанные технологии и имеющего некую ценность\n",
    "## 6) Творчиский конкурс"
   ]
  },
  {
   "cell_type": "code",
   "execution_count": null,
   "metadata": {
    "vscode": {
     "languageId": "plaintext"
    }
   },
   "outputs": [],
   "source": []
  }
 ],
 "metadata": {
  "language_info": {
   "name": "python"
  },
  "orig_nbformat": 4
 },
 "nbformat": 4,
 "nbformat_minor": 2
}
