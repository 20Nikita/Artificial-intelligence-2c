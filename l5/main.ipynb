{
 "cells": [
  {
   "cell_type": "markdown",
   "metadata": {},
   "source": [
    "# Обучить сеть, попробовать попрунить, сконвертировать в onnx и запустить в юнити."
   ]
  },
  {
   "cell_type": "code",
   "execution_count": 1,
   "metadata": {},
   "outputs": [],
   "source": [
    "import torch\n",
    "import timm\n",
    "from torch.utils.data import Dataset\n",
    "from torchvision import datasets\n",
    "from torchvision.transforms import ToTensor\n",
    "import matplotlib.pyplot as plt\n",
    "from torch.utils.data import DataLoader\n",
    "import torchvision.transforms as T\n"
   ]
  },
  {
   "cell_type": "markdown",
   "metadata": {},
   "source": [
    "# Обучение сети"
   ]
  },
  {
   "cell_type": "markdown",
   "metadata": {},
   "source": [
    "### Гиперпараметы"
   ]
  },
  {
   "cell_type": "code",
   "execution_count": 2,
   "metadata": {},
   "outputs": [],
   "source": [
    "batch_size = 100\n",
    "num_workers = 1\n",
    "num_classes = 10\n",
    "input_size = 64\n",
    "num_epochs = 10\n",
    "lr = 0.0001\n",
    "dummy_input = torch.randn(1, 1, input_size, input_size)\n",
    "input_names = [ \"actual_input\" ]\n",
    "output_names = [ \"output\" ]\n",
    "devices = torch.device(\"cuda:0\" if torch.cuda.is_available() else \"cpu\")\n",
    "train_transforms = T.Compose([\n",
    "    T.Resize(input_size),\n",
    "    T.RandomVerticalFlip(p=0.5),\n",
    "    T.RandomHorizontalFlip(p=0.5),\n",
    "    T.ToTensor(),\n",
    "])\n",
    "val_transforms = T.Compose([\n",
    "    T.Resize(input_size),\n",
    "    T.ToTensor(),\n",
    "])"
   ]
  },
  {
   "cell_type": "markdown",
   "metadata": {},
   "source": [
    "### Датасет"
   ]
  },
  {
   "cell_type": "code",
   "execution_count": 3,
   "metadata": {},
   "outputs": [],
   "source": [
    "training_data = datasets.FashionMNIST(root=\"../datasets\",train=True,download=True,transform=train_transforms)\n",
    "test_data = datasets.FashionMNIST(root=\"../datasets\",train=False,download=True,transform=val_transforms)\n",
    "train_dataloader = DataLoader(training_data, batch_size=batch_size, num_workers=num_workers, pin_memory=True, drop_last=True, shuffle=True,)\n",
    "val_dataloader = DataLoader(test_data, batch_size=batch_size, num_workers=num_workers, pin_memory=True, drop_last=True, shuffle=False)"
   ]
  },
  {
   "cell_type": "markdown",
   "metadata": {},
   "source": [
    "### Пример данных"
   ]
  },
  {
   "cell_type": "code",
   "execution_count": 4,
   "metadata": {},
   "outputs": [
    {
     "data": {
      "image/png": "[encoded data removed]",
      "text/plain": [
       "<Figure size 432x288 with 1 Axes>"
      ]
     },
     "metadata": {
      "needs_background": "light"
     },
     "output_type": "display_data"
    }
   ],
   "source": [
    "image, label = test_data.__getitem__(0)\n",
    "image_cat = image.numpy().transpose((1, 2, 0))\n",
    "plt.imshow(image_cat)\n",
    "plt.show()"
   ]
  },
  {
   "cell_type": "markdown",
   "metadata": {},
   "source": [
    "### Модель"
   ]
  },
  {
   "cell_type": "code",
   "execution_count": 5,
   "metadata": {},
   "outputs": [],
   "source": [
    "model = timm.create_model(\"resnet18\", pretrained=True, in_chans = 1, num_classes=num_classes).to(devices)\n",
    "criterion=torch.nn.CrossEntropyLoss()\n",
    "optimizer =torch.optim.AdamW(model.parameters(), lr = lr)"
   ]
  },
  {
   "cell_type": "markdown",
   "metadata": {},
   "source": [
    "### Обучение"
   ]
  },
  {
   "cell_type": "code",
   "execution_count": 6,
   "metadata": {},
   "outputs": [],
   "source": [
    "def train(model, optimizer, criterion, num_epochs = 1):\n",
    "    for epoch in range(num_epochs):\n",
    "        print(f'Epoch {epoch + 1}/{num_epochs}')\n",
    "        print('-' * 10)\n",
    "        for phase in [\"T\",\"V\"]:\n",
    "            if phase == \"T\":\n",
    "                dataloader = train_dataloader\n",
    "                model=model.train()\n",
    "            else:\n",
    "                dataloader = val_dataloader\n",
    "                model=model.eval()      \n",
    "            epoch_inputs = 0\n",
    "            correct = 0\n",
    "            total = 0\n",
    "            for inputs, labels in dataloader:\n",
    "                inputs = inputs.to(devices)\n",
    "                labels = labels.to(devices)\n",
    "                optimizer.zero_grad()\n",
    "                with torch.set_grad_enabled(phase == 'T'):\n",
    "                    out = model(inputs)\n",
    "                    loss = criterion(out, labels)\n",
    "                    _, predicted = torch.max(out.data, 1)\n",
    "                    total += labels.size(0)\n",
    "                    correct += (predicted == labels).sum().item()\n",
    "                    epoch_inputs += loss.item()\n",
    "                    if phase == \"T\":\n",
    "                        loss.backward()\n",
    "                        optimizer.step()\n",
    "            print(f\"{phase} loss = {epoch_inputs / len(dataloader):0.3f}, Acc = {100 * correct / total: 0.3f}\")\n",
    "    return model\n"
   ]
  },
  {
   "cell_type": "code",
   "execution_count": 7,
   "metadata": {},
   "outputs": [
    {
     "name": "stdout",
     "output_type": "stream",
     "text": [
      "Epoch 1/10\n",
      "----------\n",
      "T loss = 0.359, Acc =  87.538\n",
      "V loss = 0.249, Acc =  91.130\n",
      "Epoch 2/10\n",
      "----------\n",
      "T loss = 0.222, Acc =  92.027\n",
      "V loss = 0.227, Acc =  91.770\n",
      "Epoch 3/10\n",
      "----------\n",
      "T loss = 0.186, Acc =  93.353\n",
      "V loss = 0.206, Acc =  92.590\n",
      "Epoch 4/10\n",
      "----------\n",
      "T loss = 0.163, Acc =  94.158\n",
      "V loss = 0.192, Acc =  93.380\n",
      "Epoch 5/10\n",
      "----------\n",
      "T loss = 0.148, Acc =  94.655\n",
      "V loss = 0.202, Acc =  92.810\n",
      "Epoch 6/10\n",
      "----------\n",
      "T loss = 0.136, Acc =  95.160\n",
      "V loss = 0.185, Acc =  93.300\n",
      "Epoch 7/10\n",
      "----------\n",
      "T loss = 0.121, Acc =  95.602\n",
      "V loss = 0.196, Acc =  93.350\n",
      "Epoch 8/10\n",
      "----------\n",
      "T loss = 0.109, Acc =  96.070\n",
      "V loss = 0.191, Acc =  93.710\n",
      "Epoch 9/10\n",
      "----------\n",
      "T loss = 0.103, Acc =  96.325\n",
      "V loss = 0.195, Acc =  93.470\n",
      "Epoch 10/10\n",
      "----------\n",
      "T loss = 0.096, Acc =  96.542\n",
      "V loss = 0.219, Acc =  93.070\n"
     ]
    }
   ],
   "source": [
    "model = train(model, optimizer, criterion, num_epochs)"
   ]
  },
  {
   "cell_type": "markdown",
   "metadata": {},
   "source": [
    "## Конвертация в ONNX"
   ]
  },
  {
   "cell_type": "code",
   "execution_count": 8,
   "metadata": {},
   "outputs": [],
   "source": [
    "model.eval()\n",
    "model.to(\"cpu\")\n",
    "torch.onnx.export(model,\n",
    "                 dummy_input,\n",
    "                 \"resnet18_origen.onnx\",\n",
    "                 verbose=False,\n",
    "                 input_names=input_names,\n",
    "                 output_names=output_names,\n",
    "                 export_params=True,\n",
    "                 )"
   ]
  },
  {
   "cell_type": "markdown",
   "metadata": {},
   "source": [
    "# Прунинг готовой модели"
   ]
  },
  {
   "cell_type": "code",
   "execution_count": 9,
   "metadata": {},
   "outputs": [],
   "source": [
    "# !pip install nni==2.7\n",
    "# !pip install tensorboard"
   ]
  },
  {
   "cell_type": "code",
   "execution_count": 10,
   "metadata": {},
   "outputs": [],
   "source": [
    "import nni\n",
    "from nni.algorithms.compression.v2.pytorch.pruning import TaylorFOWeightPruner\n",
    "from nni.compression.pytorch import ModelSpeedup\n",
    "import os"
   ]
  },
  {
   "cell_type": "markdown",
   "metadata": {},
   "source": [
    "### Расчет маски для прунинга алгоритмом TaylorFOWeight и обрезка модели"
   ]
  },
  {
   "cell_type": "code",
   "execution_count": null,
   "metadata": {},
   "outputs": [],
   "source": [
    "traced_optimizer = nni.trace(torch.optim.Adam)(model.parameters())\n",
    "config_list = [{ 'sparsity': 0.8, 'op_types': ['Conv2d'] }]\n",
    "model.to(devices)\n",
    "pruner = TaylorFOWeightPruner(model, config_list, train, traced_optimizer, criterion, training_batches=batch_size)\n",
    "masked_model, masks = pruner.compress()\n",
    "pruner._unwrap_model()\n",
    "model.eval()\n",
    "ms = ModelSpeedup(model.to(devices), dummy_input.to(devices), masks)\n",
    "ms.speedup_model()"
   ]
  },
  {
   "cell_type": "markdown",
   "metadata": {},
   "source": [
    "### Дообучение"
   ]
  },
  {
   "cell_type": "code",
   "execution_count": 12,
   "metadata": {},
   "outputs": [
    {
     "name": "stdout",
     "output_type": "stream",
     "text": [
      "Epoch 1/10\n",
      "----------\n",
      "T loss = 0.426, Acc =  84.898\n",
      "V loss = 0.345, Acc =  87.480\n",
      "Epoch 2/10\n",
      "----------\n",
      "T loss = 0.291, Acc =  89.638\n",
      "V loss = 0.266, Acc =  90.020\n",
      "Epoch 3/10\n",
      "----------\n",
      "T loss = 0.259, Acc =  90.663\n",
      "V loss = 0.269, Acc =  89.930\n",
      "Epoch 4/10\n",
      "----------\n",
      "T loss = 0.237, Acc =  91.378\n",
      "V loss = 0.272, Acc =  90.010\n",
      "Epoch 5/10\n",
      "----------\n",
      "T loss = 0.218, Acc =  92.063\n",
      "V loss = 0.232, Acc =  91.450\n",
      "Epoch 6/10\n",
      "----------\n",
      "T loss = 0.208, Acc =  92.458\n",
      "V loss = 0.232, Acc =  91.450\n",
      "Epoch 7/10\n",
      "----------\n",
      "T loss = 0.196, Acc =  92.978\n",
      "V loss = 0.233, Acc =  91.300\n",
      "Epoch 8/10\n",
      "----------\n",
      "T loss = 0.190, Acc =  93.063\n",
      "V loss = 0.233, Acc =  91.600\n",
      "Epoch 9/10\n",
      "----------\n",
      "T loss = 0.180, Acc =  93.435\n",
      "V loss = 0.231, Acc =  91.760\n",
      "Epoch 10/10\n",
      "----------\n",
      "T loss = 0.172, Acc =  93.797\n",
      "V loss = 0.218, Acc =  91.830\n"
     ]
    }
   ],
   "source": [
    "criterion=torch.nn.CrossEntropyLoss()\n",
    "optimizer =torch.optim.AdamW(model.parameters(), lr = lr)\n",
    "model.to(devices)\n",
    "model = train(model, optimizer, criterion, num_epochs)"
   ]
  },
  {
   "cell_type": "markdown",
   "metadata": {},
   "source": [
    "### Конвертация в ONNX"
   ]
  },
  {
   "cell_type": "code",
   "execution_count": 13,
   "metadata": {},
   "outputs": [],
   "source": [
    "model.eval()\n",
    "model.to(\"cpu\")\n",
    "torch.onnx.export(model,\n",
    "                 dummy_input,\n",
    "                 \"resnet18_prun_80p.onnx\",\n",
    "                 verbose=False,\n",
    "                 input_names=input_names,\n",
    "                 output_names=output_names,\n",
    "                 export_params=True,\n",
    "                 )"
   ]
  },
  {
   "cell_type": "markdown",
   "metadata": {},
   "source": [
    "# Сравнение результатов"
   ]
  },
  {
   "cell_type": "code",
   "execution_count": 20,
   "metadata": {},
   "outputs": [
    {
     "name": "stdout",
     "output_type": "stream",
     "text": [
      "Размер сети до прунинга = 43 mb, после = 4 mb\n"
     ]
    }
   ],
   "source": [
    "stats1 = os.stat('resnet18_origen.onnx')\n",
    "stats2 = os.stat('resnet18_prun_80p.onnx')\n",
    "\n",
    "print(f\"Размер сети до прунинга = {stats1.st_size / 1024 / 1024:0.0f} mb, после = {stats2.st_size / 1024 / 1024:0.0f} mb\")"
   ]
  }
 ],
 "metadata": {
  "kernelspec": {
   "display_name": "Python 3.10.4 64-bit",
   "language": "python",
   "name": "python3"
  },
  "language_info": {
   "codemirror_mode": {
    "name": "ipython",
    "version": 3
   },
   "file_extension": ".py",
   "mimetype": "text/x-python",
   "name": "python",
   "nbconvert_exporter": "python",
   "pygments_lexer": "ipython3",
   "version": "3.10.4"
  },
  "orig_nbformat": 4,
  "vscode": {
   "interpreter": {
    "hash": "301a17a29b57d3836b7901af1621afd6d2b1f2298b9c7949191147cf2fea93e3"
   }
  }
 },
 "nbformat": 4,
 "nbformat_minor": 2
}
